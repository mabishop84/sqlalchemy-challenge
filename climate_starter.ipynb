{
 "cells": [
  {
   "cell_type": "code",
   "execution_count": 1,
   "metadata": {},
   "outputs": [],
   "source": [
    "%matplotlib inline\n",
    "from matplotlib import style\n",
    "style.use('fivethirtyeight')\n",
    "import matplotlib.pyplot as plt"
   ]
  },
  {
   "cell_type": "code",
   "execution_count": 2,
   "metadata": {},
   "outputs": [],
   "source": [
    "import numpy as np\n",
    "import pandas as pd\n",
    "import datetime as dt"
   ]
  },
  {
   "cell_type": "markdown",
   "metadata": {},
   "source": [
    "# Reflect Tables into SQLAlchemy ORM"
   ]
  },
  {
   "cell_type": "code",
   "execution_count": 3,
   "metadata": {},
   "outputs": [],
   "source": [
    "# Python SQL toolkit and Object Relational Mapper\n",
    "import sqlalchemy\n",
    "from sqlalchemy.ext.automap import automap_base\n",
    "from sqlalchemy.orm import Session\n",
    "from sqlalchemy import create_engine, func"
   ]
  },
  {
   "cell_type": "code",
   "execution_count": 4,
   "metadata": {},
   "outputs": [],
   "source": [
    "# create engine to hawaii.sqlite\n",
    "engine = create_engine(\"sqlite:///Resources/hawaii.sqlite\")"
   ]
  },
  {
   "cell_type": "code",
   "execution_count": 5,
   "metadata": {},
   "outputs": [],
   "source": [
    "# reflect an existing database into a new model\n",
    "Base = automap_base()\n",
    "\n",
    "\n",
    "\n",
    "# reflect the tables\n",
    "Base.prepare(engine, reflect=True)"
   ]
  },
  {
   "cell_type": "code",
   "execution_count": 6,
   "metadata": {},
   "outputs": [
    {
     "data": {
      "text/plain": [
       "['measurement', 'station']"
      ]
     },
     "execution_count": 6,
     "metadata": {},
     "output_type": "execute_result"
    }
   ],
   "source": [
    "# View all of the classes that automap found\n",
    "Base.classes.keys()"
   ]
  },
  {
   "cell_type": "code",
   "execution_count": 7,
   "metadata": {},
   "outputs": [],
   "source": [
    "# Save references to each table\n",
    "Measurement = Base.classes.measurement\n",
    "Station = Base.classes.station"
   ]
  },
  {
   "cell_type": "code",
   "execution_count": 8,
   "metadata": {},
   "outputs": [],
   "source": [
    "# Create our session (link) from Python to the DB\n",
    "session = Session(engine)"
   ]
  },
  {
   "cell_type": "markdown",
   "metadata": {},
   "source": [
    "# Exploratory Precipitation Analysis"
   ]
  },
  {
   "cell_type": "code",
   "execution_count": 9,
   "metadata": {},
   "outputs": [
    {
     "name": "stdout",
     "output_type": "stream",
     "text": [
      "('2017-08-23',)\n"
     ]
    }
   ],
   "source": [
    "# Find the most recent date in the data set.\n",
    "results_all = engine.execute('SELECT max(date) from Measurement').fetchall()\n",
    "for result in results_all:\n",
    "    print(result)"
   ]
  },
  {
   "cell_type": "code",
   "execution_count": 17,
   "metadata": {},
   "outputs": [
    {
     "data": {
      "image/png": "[encoded data removed]",
      "text/plain": [
       "<Figure size 432x288 with 1 Axes>"
      ]
     },
     "metadata": {},
     "output_type": "display_data"
    }
   ],
   "source": [
    "# Design a query to retrieve the last 12 months of precipitation data and plot the results. \n",
    "# Starting from the most recent data point in the database. \n",
    "\n",
    "\n",
    "# Calculate the date one year from the last date in data set.\n",
    "\n",
    "\n",
    "\n",
    "# Perform a query to retrieve the data and precipitation scores\n",
    "last_year_precip = engine.execute('SELECT date, prcp FROM Measurement WHERE date >= \"2016-08-23\"').fetchall()\n",
    "\n",
    "\n",
    "\n",
    "# Save the query results as a Pandas DataFrame and set the index to the date column\n",
    "prcp_df = pd.DataFrame(last_year_precip).set_index(0)\n",
    "prcp_df = prcp_df.rename(columns={'0':'date','1':'precipitation'})\n",
    "\n",
    "\n",
    "# Sort the dataframe by date\n",
    "prcp_df=prcp_df.sort_values(by=[0]).dropna()\n",
    "\n",
    "# Use Pandas Plotting with Matplotlib to plot the data\n",
    "prcp_df.plot(rot=45)\n",
    "plt.title(\"Last Year of Precipitation\")\n",
    "plt.xlabel(\"Date\")\n",
    "plt.ylabel(\"Precipitation\")\n",
    "plt.show()\n",
    "\n"
   ]
  },
  {
   "cell_type": "code",
   "execution_count": 18,
   "metadata": {},
   "outputs": [
    {
     "data": {
      "text/html": [
       "<div>\n",
       "<style scoped>\n",
       "    .dataframe tbody tr th:only-of-type {\n",
       "        vertical-align: middle;\n",
       "    }\n",
       "\n",
       "    .dataframe tbody tr th {\n",
       "        vertical-align: top;\n",
       "    }\n",
       "\n",
       "    .dataframe thead th {\n",
       "        text-align: right;\n",
       "    }\n",
       "</style>\n",
       "<table border=\"1\" class=\"dataframe\">\n",
       "  <thead>\n",
       "    <tr style=\"text-align: right;\">\n",
       "      <th></th>\n",
       "      <th>1</th>\n",
       "    </tr>\n",
       "  </thead>\n",
       "  <tbody>\n",
       "    <tr>\n",
       "      <th>count</th>\n",
       "      <td>2021.000000</td>\n",
       "    </tr>\n",
       "    <tr>\n",
       "      <th>mean</th>\n",
       "      <td>0.177279</td>\n",
       "    </tr>\n",
       "    <tr>\n",
       "      <th>std</th>\n",
       "      <td>0.461190</td>\n",
       "    </tr>\n",
       "    <tr>\n",
       "      <th>min</th>\n",
       "      <td>0.000000</td>\n",
       "    </tr>\n",
       "    <tr>\n",
       "      <th>25%</th>\n",
       "      <td>0.000000</td>\n",
       "    </tr>\n",
       "    <tr>\n",
       "      <th>50%</th>\n",
       "      <td>0.020000</td>\n",
       "    </tr>\n",
       "    <tr>\n",
       "      <th>75%</th>\n",
       "      <td>0.130000</td>\n",
       "    </tr>\n",
       "    <tr>\n",
       "      <th>max</th>\n",
       "      <td>6.700000</td>\n",
       "    </tr>\n",
       "  </tbody>\n",
       "</table>\n",
       "</div>"
      ],
      "text/plain": [
       "                 1\n",
       "count  2021.000000\n",
       "mean      0.177279\n",
       "std       0.461190\n",
       "min       0.000000\n",
       "25%       0.000000\n",
       "50%       0.020000\n",
       "75%       0.130000\n",
       "max       6.700000"
      ]
     },
     "execution_count": 18,
     "metadata": {},
     "output_type": "execute_result"
    }
   ],
   "source": [
    "# Use Pandas to calcualte the summary statistics for the precipitation data\n",
    "prcp_df.describe()"
   ]
  },
  {
   "cell_type": "markdown",
   "metadata": {},
   "source": [
    "# Exploratory Station Analysis"
   ]
  },
  {
   "cell_type": "code",
   "execution_count": 20,
   "metadata": {},
   "outputs": [
    {
     "name": "stdout",
     "output_type": "stream",
     "text": [
      "('USC00519397',)\n",
      "('USC00513117',)\n",
      "('USC00514830',)\n",
      "('USC00517948',)\n",
      "('USC00518838',)\n",
      "('USC00519523',)\n",
      "('USC00519281',)\n",
      "('USC00511918',)\n",
      "('USC00516128',)\n"
     ]
    }
   ],
   "source": [
    "# Design a query to calculate the total number stations in the dataset\n",
    "Station_ID = engine.execute('SELECT distinct station FROM Station')\n",
    "for ID in Station_ID:\n",
    "    print(ID)"
   ]
  },
  {
   "cell_type": "code",
   "execution_count": 33,
   "metadata": {},
   "outputs": [
    {
     "name": "stdout",
     "output_type": "stream",
     "text": [
      "('USC00519281', 2772)\n",
      "('USC00519397', 2724)\n",
      "('USC00513117', 2709)\n",
      "('USC00519523', 2669)\n",
      "('USC00516128', 2612)\n",
      "('USC00514830', 2202)\n",
      "('USC00511918', 1979)\n",
      "('USC00517948', 1372)\n",
      "('USC00518838', 511)\n"
     ]
    }
   ],
   "source": [
    "# Design a query to find the most active stations (i.e. what stations have the most rows?)\n",
    "# List the stations and the counts in descending order.\n",
    "comined_data = engine.execute('SELECT distinct S.station, count(distinct M.date) FROM Measurement M, Station S WHERE M.station=S.station  GROUP BY S.station ORDER BY count(distinct M.date) DESC' )\n",
    "for result in comined_data:\n",
    "    print(result)"
   ]
  },
  {
   "cell_type": "code",
   "execution_count": 51,
   "metadata": {},
   "outputs": [
    {
     "name": "stdout",
     "output_type": "stream",
     "text": [
      "('USC00519281', 54.0, 85.0, 71.66378066378067)\n"
     ]
    }
   ],
   "source": [
    "# Using the most active station id from the previous query, calculate the lowest, highest, and average temperature.\n",
    "most_active = engine.execute('SELECT distinct station, min(tobs), max(tobs), avg(tobs) FROM Measurement WHERE station = \"USC00519281\"').fetchall()\n",
    "for x in most_active:\n",
    "    print(x)"
   ]
  },
  {
   "cell_type": "code",
   "execution_count": 52,
   "metadata": {},
   "outputs": [
    {
     "name": "stdout",
     "output_type": "stream",
     "text": [
      "(77.0,)\n",
      "(77.0,)\n",
      "(80.0,)\n",
      "(80.0,)\n",
      "(75.0,)\n",
      "(73.0,)\n",
      "(78.0,)\n",
      "(77.0,)\n",
      "(78.0,)\n",
      "(80.0,)\n",
      "(80.0,)\n",
      "(78.0,)\n",
      "(78.0,)\n",
      "(78.0,)\n",
      "(73.0,)\n",
      "(74.0,)\n",
      "(80.0,)\n",
      "(79.0,)\n",
      "(77.0,)\n",
      "(80.0,)\n",
      "(76.0,)\n",
      "(79.0,)\n",
      "(75.0,)\n",
      "(79.0,)\n",
      "(78.0,)\n",
      "(79.0,)\n",
      "(78.0,)\n",
      "(78.0,)\n",
      "(76.0,)\n",
      "(74.0,)\n",
      "(77.0,)\n",
      "(78.0,)\n",
      "(79.0,)\n",
      "(79.0,)\n",
      "(77.0,)\n",
      "(80.0,)\n",
      "(78.0,)\n",
      "(78.0,)\n",
      "(78.0,)\n",
      "(77.0,)\n",
      "(79.0,)\n",
      "(79.0,)\n",
      "(79.0,)\n",
      "(79.0,)\n",
      "(75.0,)\n",
      "(76.0,)\n",
      "(73.0,)\n",
      "(72.0,)\n",
      "(71.0,)\n",
      "(77.0,)\n",
      "(79.0,)\n",
      "(78.0,)\n",
      "(79.0,)\n",
      "(77.0,)\n",
      "(79.0,)\n",
      "(77.0,)\n",
      "(78.0,)\n",
      "(78.0,)\n",
      "(78.0,)\n",
      "(78.0,)\n",
      "(77.0,)\n",
      "(74.0,)\n",
      "(75.0,)\n",
      "(76.0,)\n",
      "(73.0,)\n",
      "(76.0,)\n",
      "(74.0,)\n",
      "(77.0,)\n",
      "(76.0,)\n",
      "(76.0,)\n",
      "(74.0,)\n",
      "(75.0,)\n",
      "(75.0,)\n",
      "(75.0,)\n",
      "(75.0,)\n",
      "(71.0,)\n",
      "(63.0,)\n",
      "(70.0,)\n",
      "(68.0,)\n",
      "(67.0,)\n",
      "(77.0,)\n",
      "(74.0,)\n",
      "(77.0,)\n",
      "(76.0,)\n",
      "(76.0,)\n",
      "(75.0,)\n",
      "(76.0,)\n",
      "(75.0,)\n",
      "(73.0,)\n",
      "(75.0,)\n",
      "(73.0,)\n",
      "(75.0,)\n",
      "(74.0,)\n",
      "(75.0,)\n",
      "(74.0,)\n",
      "(75.0,)\n",
      "(73.0,)\n",
      "(75.0,)\n",
      "(73.0,)\n",
      "(73.0,)\n",
      "(74.0,)\n",
      "(70.0,)\n",
      "(72.0,)\n",
      "(70.0,)\n",
      "(67.0,)\n",
      "(67.0,)\n",
      "(69.0,)\n",
      "(70.0,)\n",
      "(68.0,)\n",
      "(69.0,)\n",
      "(69.0,)\n",
      "(66.0,)\n",
      "(65.0,)\n",
      "(68.0,)\n",
      "(62.0,)\n",
      "(75.0,)\n",
      "(70.0,)\n",
      "(69.0,)\n",
      "(76.0,)\n",
      "(76.0,)\n",
      "(74.0,)\n",
      "(73.0,)\n",
      "(71.0,)\n",
      "(74.0,)\n",
      "(74.0,)\n",
      "(72.0,)\n",
      "(71.0,)\n",
      "(72.0,)\n",
      "(74.0,)\n",
      "(69.0,)\n",
      "(67.0,)\n",
      "(72.0,)\n",
      "(70.0,)\n",
      "(64.0,)\n",
      "(63.0,)\n",
      "(63.0,)\n",
      "(62.0,)\n",
      "(70.0,)\n",
      "(70.0,)\n",
      "(62.0,)\n",
      "(62.0,)\n",
      "(63.0,)\n",
      "(65.0,)\n",
      "(69.0,)\n",
      "(77.0,)\n",
      "(70.0,)\n",
      "(74.0,)\n",
      "(69.0,)\n",
      "(72.0,)\n",
      "(71.0,)\n",
      "(69.0,)\n",
      "(71.0,)\n",
      "(71.0,)\n",
      "(72.0,)\n",
      "(72.0,)\n",
      "(69.0,)\n",
      "(70.0,)\n",
      "(66.0,)\n",
      "(65.0,)\n",
      "(69.0,)\n",
      "(68.0,)\n",
      "(68.0,)\n",
      "(68.0,)\n",
      "(59.0,)\n",
      "(60.0,)\n",
      "(70.0,)\n",
      "(73.0,)\n",
      "(75.0,)\n",
      "(64.0,)\n",
      "(59.0,)\n",
      "(59.0,)\n",
      "(62.0,)\n",
      "(68.0,)\n",
      "(70.0,)\n",
      "(73.0,)\n",
      "(79.0,)\n",
      "(75.0,)\n",
      "(65.0,)\n",
      "(70.0,)\n",
      "(74.0,)\n",
      "(70.0,)\n",
      "(70.0,)\n",
      "(71.0,)\n",
      "(71.0,)\n",
      "(71.0,)\n",
      "(69.0,)\n",
      "(61.0,)\n",
      "(67.0,)\n",
      "(65.0,)\n",
      "(72.0,)\n",
      "(71.0,)\n",
      "(73.0,)\n",
      "(72.0,)\n",
      "(77.0,)\n",
      "(73.0,)\n",
      "(67.0,)\n",
      "(62.0,)\n",
      "(64.0,)\n",
      "(67.0,)\n",
      "(66.0,)\n",
      "(81.0,)\n",
      "(69.0,)\n",
      "(66.0,)\n",
      "(67.0,)\n",
      "(69.0,)\n",
      "(66.0,)\n",
      "(68.0,)\n",
      "(65.0,)\n",
      "(74.0,)\n",
      "(69.0,)\n",
      "(72.0,)\n",
      "(73.0,)\n",
      "(72.0,)\n",
      "(71.0,)\n",
      "(76.0,)\n",
      "(77.0,)\n",
      "(76.0,)\n",
      "(74.0,)\n",
      "(68.0,)\n",
      "(73.0,)\n",
      "(71.0,)\n",
      "(74.0,)\n",
      "(75.0,)\n",
      "(70.0,)\n",
      "(67.0,)\n",
      "(71.0,)\n",
      "(67.0,)\n",
      "(74.0,)\n",
      "(77.0,)\n",
      "(78.0,)\n",
      "(67.0,)\n",
      "(70.0,)\n",
      "(69.0,)\n",
      "(69.0,)\n",
      "(74.0,)\n",
      "(78.0,)\n",
      "(71.0,)\n",
      "(67.0,)\n",
      "(68.0,)\n",
      "(67.0,)\n",
      "(76.0,)\n",
      "(69.0,)\n",
      "(72.0,)\n",
      "(76.0,)\n",
      "(68.0,)\n",
      "(72.0,)\n",
      "(74.0,)\n",
      "(70.0,)\n",
      "(67.0,)\n",
      "(72.0,)\n",
      "(60.0,)\n",
      "(65.0,)\n",
      "(75.0,)\n",
      "(70.0,)\n",
      "(75.0,)\n",
      "(70.0,)\n",
      "(79.0,)\n",
      "(75.0,)\n",
      "(70.0,)\n",
      "(67.0,)\n",
      "(74.0,)\n",
      "(70.0,)\n",
      "(75.0,)\n",
      "(76.0,)\n",
      "(77.0,)\n",
      "(74.0,)\n",
      "(74.0,)\n",
      "(74.0,)\n",
      "(69.0,)\n",
      "(68.0,)\n",
      "(76.0,)\n",
      "(74.0,)\n",
      "(71.0,)\n",
      "(71.0,)\n",
      "(74.0,)\n",
      "(74.0,)\n",
      "(74.0,)\n",
      "(74.0,)\n",
      "(80.0,)\n",
      "(74.0,)\n",
      "(72.0,)\n",
      "(75.0,)\n",
      "(80.0,)\n",
      "(76.0,)\n",
      "(76.0,)\n",
      "(77.0,)\n",
      "(75.0,)\n",
      "(75.0,)\n",
      "(75.0,)\n",
      "(75.0,)\n",
      "(72.0,)\n",
      "(74.0,)\n",
      "(74.0,)\n",
      "(74.0,)\n",
      "(76.0,)\n",
      "(74.0,)\n",
      "(75.0,)\n",
      "(73.0,)\n",
      "(79.0,)\n",
      "(75.0,)\n",
      "(72.0,)\n",
      "(72.0,)\n",
      "(74.0,)\n",
      "(72.0,)\n",
      "(72.0,)\n",
      "(77.0,)\n",
      "(71.0,)\n",
      "(73.0,)\n",
      "(76.0,)\n",
      "(77.0,)\n",
      "(76.0,)\n",
      "(76.0,)\n",
      "(79.0,)\n",
      "(81.0,)\n",
      "(76.0,)\n",
      "(78.0,)\n",
      "(77.0,)\n",
      "(74.0,)\n",
      "(75.0,)\n",
      "(78.0,)\n",
      "(78.0,)\n",
      "(69.0,)\n",
      "(72.0,)\n",
      "(74.0,)\n",
      "(74.0,)\n",
      "(76.0,)\n",
      "(80.0,)\n",
      "(80.0,)\n",
      "(76.0,)\n",
      "(76.0,)\n",
      "(76.0,)\n",
      "(77.0,)\n",
      "(77.0,)\n",
      "(77.0,)\n",
      "(82.0,)\n",
      "(75.0,)\n",
      "(77.0,)\n",
      "(75.0,)\n",
      "(76.0,)\n",
      "(81.0,)\n",
      "(82.0,)\n",
      "(81.0,)\n",
      "(76.0,)\n",
      "(77.0,)\n",
      "(82.0,)\n",
      "(83.0,)\n",
      "(77.0,)\n",
      "(77.0,)\n",
      "(77.0,)\n",
      "(76.0,)\n",
      "(76.0,)\n",
      "(79.0,)\n"
     ]
    }
   ],
   "source": [
    "# Using the most active station id\n",
    "# Query the last 12 months of temperature observation data for this station and plot the results as a histogram\n",
    "busiest_last_year = engine.execute('SELECT tobs FROM Measurement WHERE date >= \"2016-08-23\" AND station = \"USC00519281\"').fetchall()\n",
    "for result in busiest_last_year:\n",
    "    print(result)"
   ]
  },
  {
   "cell_type": "code",
   "execution_count": 54,
   "metadata": {},
   "outputs": [
    {
     "data": {
      "image/png": "[encoded data removed]",
      "text/plain": [
       "<Figure size 432x288 with 1 Axes>"
      ]
     },
     "metadata": {},
     "output_type": "display_data"
    }
   ],
   "source": [
    "#plot the results as a histogram\n",
    "busy_df = pd.DataFrame(busiest_last_year)\n",
    "\n",
    "busy_df.plot.hist(bins=12)\n",
    "plt.title(\"Last Year Temperature At Busiest Station\")\n",
    "plt.xlabel(\"Temperature\")\n",
    "plt.ylabel(\"Frequency\")\n",
    "plt.show()"
   ]
  },
  {
   "cell_type": "markdown",
   "metadata": {},
   "source": [
    "# Close session"
   ]
  },
  {
   "cell_type": "code",
   "execution_count": 55,
   "metadata": {},
   "outputs": [],
   "source": [
    "# Close Session\n",
    "session.close()"
   ]
  },
  {
   "cell_type": "code",
   "execution_count": null,
   "metadata": {},
   "outputs": [],
   "source": []
  }
 ],
 "metadata": {
  "anaconda-cloud": {},
  "interpreter": {
   "hash": "e9ef3f96e168c700cce586551ad3d2df0a6c4cbb688d4eba389a61e7ec92f6c1"
  },
  "kernel_info": {
   "name": "python3"
  },
  "kernelspec": {
   "display_name": "Python 3",
   "language": "python",
   "name": "python3"
  },
  "language_info": {
   "codemirror_mode": {
    "name": "ipython",
    "version": 3
   },
   "file_extension": ".py",
   "mimetype": "text/x-python",
   "name": "python",
   "nbconvert_exporter": "python",
   "pygments_lexer": "ipython3",
   "version": "3.6.10"
  },
  "nteract": {
   "version": "0.12.3"
  },
  "varInspector": {
   "cols": {
    "lenName": 16,
    "lenType": 16,
    "lenVar": 40
   },
   "kernels_config": {
    "python": {
     "delete_cmd_postfix": "",
     "delete_cmd_prefix": "del ",
     "library": "var_list.py",
     "varRefreshCmd": "print(var_dic_list())"
    },
    "r": {
     "delete_cmd_postfix": ") ",
     "delete_cmd_prefix": "rm(",
     "library": "var_list.r",
     "varRefreshCmd": "cat(var_dic_list()) "
    }
   },
   "types_to_exclude": [
    "module",
    "function",
    "builtin_function_or_method",
    "instance",
    "_Feature"
   ],
   "window_display": false
  }
 },
 "nbformat": 4,
 "nbformat_minor": 2
}
